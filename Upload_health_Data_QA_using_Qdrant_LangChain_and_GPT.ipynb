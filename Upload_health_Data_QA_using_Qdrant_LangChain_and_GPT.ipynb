{
  "cells": [
    {
      "cell_type": "code",
      "execution_count": null,
      "metadata": {
        "id": "OX4TgIIdyq9B"
      },
      "outputs": [],
      "source": [
        "!pip install langchain\n",
        "!pip install PyPDF2\n",
        "!pip install qdrant_client\n",
        "!pip install langchain_openai\n",
        "!pip install pypdf\n",
        "!pip install openai"
      ]
    },
    {
      "cell_type": "code",
      "execution_count": 2,
      "metadata": {
        "id": "3ezUS6vRgonc"
      },
      "outputs": [],
      "source": [
        "import os\n",
        "\n",
        "from langchain.document_loaders import PyPDFLoader\n",
        "from langchain.text_splitter import CharacterTextSplitter\n",
        "from langchain.embeddings.openai import OpenAIEmbeddings\n",
        "from langchain.vectorstores import Qdrant\n",
        "from langchain.chains import ConversationalRetrievalChain\n",
        "from langchain.document_loaders import TextLoader\n",
        "from qdrant_client import QdrantClient,models\n",
        "from qdrant_client.http.models import PointStruct\n",
        "from openai import OpenAI"
      ]
    },
    {
      "cell_type": "code",
      "execution_count": 3,
      "metadata": {
        "id": "B_PBmG9A3NaC"
      },
      "outputs": [],
      "source": [
        "os.environ[\"OPENAI_API_KEY\"]=\"\"\n",
        "os.environ[\"QDRANT_URL\"]=\"\""
      ]
    },
    {
      "cell_type": "code",
      "execution_count": null,
      "metadata": {
        "colab": {
          "base_uri": "https://localhost:8080/"
        },
        "id": "gGF5A27Bm0KF",
        "outputId": "9a16229f-9da6-4505-9ec8-236a80e373fb"
      },
      "outputs": [],
      "source": [
        "#create new cluseter in qdrant\n",
        "record=0\n",
        "\n",
        "connection = QdrantClient(\n",
        "    url=os.environ.get(\"QDRANT_URL\"),\n",
        "    api_key=\"\",\n",
        ")\n",
        "\n",
        "\n",
        "connection.recreate_collection(\n",
        "    collection_name=\"health_report\",\n",
        "    vectors_config=models.VectorParams(size=1536, distance=models.Distance.COSINE),\n",
        ")\n",
        "print(\"Create collection reponse:\", connection)\n",
        "\n",
        "info = connection.get_collection(collection_name=\"health_report\")\n",
        "\n",
        "print(\"Collection info:\", info)\n",
        "for get_info in info:\n",
        "  print(get_info)"
      ]
    },
    {
      "cell_type": "code",
      "execution_count": 6,
      "metadata": {
        "id": "Vs8fDBpxp0Xp"
      },
      "outputs": [],
      "source": [
        "def qdrants_load(collection_name):\n",
        "    return Qdrant(\n",
        "        client=connection,\n",
        "        collection_name=collection_name,\n",
        "        embeddings=get_embeddings()\n",
        "    )"
      ]
    },
    {
      "cell_type": "code",
      "execution_count": 7,
      "metadata": {
        "id": "pVRnzhiEmF3f"
      },
      "outputs": [],
      "source": [
        "def read_files_in_pdf_dir():\n",
        "    docs = []\n",
        "    for filename in os.listdir(\"./pdf/\"):\n",
        "        filepath = os.path.join(\"./pdf/\", filename)\n",
        "        if filename.endswith('.txt'):\n",
        "            loader = TextLoader(filepath)\n",
        "            text_splitter = CharacterTextSplitter(chunk_size=300, chunk_overlap=50)\n",
        "            pages = loader.load_and_split(text_splitter)\n",
        "            docs.extend(pages)\n",
        "        elif filename.endswith('.pdf'):\n",
        "            loader = PyPDFLoader(filepath)\n",
        "            text_splitter = CharacterTextSplitter(chunk_size=300, chunk_overlap=50)\n",
        "            pages = loader.load_and_split(text_splitter)\n",
        "            docs.extend(pages)\n",
        "    if len(docs) != 0:\n",
        "        print(docs)\n",
        "        Qdrant = qdrants_load(\"health_report\")\n",
        "        Qdrant.add_documents(docs)\n",
        "        print(\"succeded to read files!\")\n"
      ]
    },
    {
      "cell_type": "code",
      "execution_count": 8,
      "metadata": {
        "id": "djAEYH2ngPKH"
      },
      "outputs": [],
      "source": [
        "def get_embeddings():\n",
        "  return OpenAIEmbeddings(\n",
        "    openai_api_key=os.environ.get(\"OPENAI_API_KEY\"),\n",
        "    chunk_size=1\n",
        "  )"
      ]
    },
    {
      "cell_type": "code",
      "execution_count": 9,
      "metadata": {
        "id": "ZHnNBGTccG3O"
      },
      "outputs": [],
      "source": [
        "from langchain_openai import ChatOpenAI\n",
        "def get_chat_model():\n",
        "  return ChatOpenAI(model_name=\"gpt-3.5-turbo-0125\", temperature=0)"
      ]
    },
    {
      "cell_type": "code",
      "execution_count": 10,
      "metadata": {
        "id": "dFuWNl7IAuO2"
      },
      "outputs": [],
      "source": [
        "def get_document_store(docs, embeddings):\n",
        "  upsert = Qdrant.from_documents(\n",
        "    docs,\n",
        "    embeddings,\n",
        "    url=os.environ.get(\"QDRANT_URL\"),\n",
        "    collection_name=\"health_report\",\n",
        "    api_key=\"PtYX2su0b_Xof19YN54ybCUvIZgdA94HqDe0vPUHBQ8CNu7Moun0VQ\"\n",
        "  )\n",
        "  print(upsert)\n",
        "  return upsert"
      ]
    },
    {
      "cell_type": "code",
      "execution_count": 11,
      "metadata": {
        "id": "ebz24C41IOeF"
      },
      "outputs": [],
      "source": [
        "def ask_question_with_context(qa, question, chat_history):\n",
        "\n",
        "    query = \"\"\n",
        "    result = qa({\"question\": question, \"chat_history\": chat_history})\n",
        "    print(\"answer:\", result[\"answer\"])\n",
        "    chat_history = [(query, result[\"answer\"])]\n",
        "    return chat_history"
      ]
    },
    {
      "cell_type": "code",
      "execution_count": null,
      "metadata": {
        "colab": {
          "base_uri": "https://localhost:8080/"
        },
        "id": "eFunULPheYdK",
        "outputId": "a5069d39-9faa-4deb-8bf8-d57bffa8c0a2"
      },
      "outputs": [],
      "source": [
        "def main():\n",
        "\n",
        "    read_files_in_pdf_dir()\n",
        "    llm = get_chat_model()\n",
        "\n",
        "if __name__ == \"__main__\":\n",
        "    main()\n"
      ]
    }
  ],
  "metadata": {
    "colab": {
      "provenance": []
    },
    "kernelspec": {
      "display_name": "Python 3",
      "name": "python3"
    },
    "language_info": {
      "name": "python"
    }
  },
  "nbformat": 4,
  "nbformat_minor": 0
}
