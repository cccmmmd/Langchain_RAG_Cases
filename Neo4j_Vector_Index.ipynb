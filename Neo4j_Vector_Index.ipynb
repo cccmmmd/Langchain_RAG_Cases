{
  "cells": [
    {
      "cell_type": "code",
      "execution_count": null,
      "metadata": {
        "id": "GjRl2OtNfgkF"
      },
      "outputs": [],
      "source": [
        "!pip install --upgrade --quiet  langchain langchain-community langchain-openai langchain-experimental neo4j pypdf"
      ]
    },
    {
      "cell_type": "code",
      "execution_count": null,
      "metadata": {
        "id": "E8FlpxSssocK"
      },
      "outputs": [],
      "source": [
        "import os\n",
        "from langchain_core.prompts.prompt import PromptTemplate\n",
        "from langchain.document_loaders import PyPDFLoader\n",
        "from langchain.text_splitter import TokenTextSplitter\n",
        "from langchain_community.vectorstores import Neo4jVector\n",
        "from langchain_openai import OpenAIEmbeddings\n",
        "from langchain.chains import RetrievalQAWithSourcesChain\n",
        "from langchain_openai import ChatOpenAI\n",
        "from langchain.chains.qa_with_sources.loading import load_qa_with_sources_chain"
      ]
    },
    {
      "cell_type": "code",
      "execution_count": null,
      "metadata": {
        "id": "PGBlA5vnso3r"
      },
      "outputs": [],
      "source": [
        "os.environ[\"OPENAI_API_KEY\"] = \" \"\n",
        "os.environ[\"NEO4J_URI\"] = \" \"\n",
        "os.environ[\"NEO4J_USERNAME\"] = \" \"\n",
        "os.environ[\"NEO4J_PASSWORD\"] = \" \""
      ]
    },
    {
      "cell_type": "code",
      "execution_count": null,
      "metadata": {
        "colab": {
          "base_uri": "https://localhost:8080/"
        },
        "id": "pKl_Wf1lBohb",
        "outputId": "5cdaeb3a-4d49-4c08-9215-7389b3ad3794"
      },
      "outputs": [],
      "source": [
        "docs = []\n",
        "for filename in os.listdir(\"/content/drive/MyDrive/pdf/\"):\n",
        "    filepath = os.path.join(\"/content/drive/MyDrive/pdf\", filename)\n",
        "    loader = PyPDFLoader(filepath).load()\n",
        "    text_splitter = TokenTextSplitter(chunk_size=200, chunk_overlap=50)\n",
        "    documents = text_splitter.split_documents(loader)\n",
        "    # documents = loader.load_and_split(text_splitter)\n",
        "    docs.extend(documents)\n",
        "print(docs)"
      ]
    },
    {
      "cell_type": "code",
      "execution_count": null,
      "metadata": {
        "id": "hSCh0pJn2h8x"
      },
      "outputs": [],
      "source": [
        "db = Neo4jVector.from_documents(\n",
        "    docs, OpenAIEmbeddings(),\n",
        "    index_name=\"health_report\",\n",
        "    url=os.environ.get(\"NEO4J_URI\"),\n",
        "    username=os.environ.get(\"NEO4J_USERNAME\"),\n",
        "    password=os.environ.get(\"NEO4J_PASSWORD\"),\n",
        "    create_id_index=True,\n",
        ")"
      ]
    },
    {
      "cell_type": "code",
      "execution_count": null,
      "metadata": {
        "id": "0ICvO8N2BU1B"
      },
      "outputs": [],
      "source": [
        "db = Neo4jVector.from_existing_index(\n",
        "    OpenAIEmbeddings(),\n",
        "    url=os.environ.get(\"NEO4J_URI\"),\n",
        "    username=os.environ.get(\"NEO4J_USERNAME\"),\n",
        "    password=os.environ.get(\"NEO4J_PASSWORD\"),\n",
        "    index_name=\"health_report\"\n",
        ")"
      ]
    },
    {
      "cell_type": "code",
      "execution_count": null,
      "metadata": {
        "id": "E-yQgT662T2G"
      },
      "outputs": [],
      "source": [
        "retriever = db.as_retriever()\n",
        "\n",
        "template = \"\"\"你是護士，只能回答健康檢查的問題，其他問題一律不回答。回答不出來的就不回答。必須以繁體中文回答問題。\n",
        "SOURCES:\n",
        "{question}\n",
        "{summaries}\n",
        "\"\"\"\n",
        "GERMAN_QA_PROMPT = PromptTemplate(template=template, input_variables=[\"summaries\", \"question\"])\n",
        "GERMAN_DOC_PROMPT = PromptTemplate(\n",
        "    template=\"Inhalt: {page_content}\\nQuelle: {source}\",\n",
        "    input_variables=[\"page_content\", \"source\"])\n",
        "\n",
        "qa_chain = load_qa_with_sources_chain(ChatOpenAI(temperature=0), chain_type=\"stuff\",\n",
        "                                      prompt=GERMAN_QA_PROMPT,\n",
        "                                      document_prompt=GERMAN_DOC_PROMPT)\n",
        "\n",
        "\n",
        "chain = RetrievalQAWithSourcesChain(combine_documents_chain=qa_chain, retriever=retriever,\n",
        "                                     reduce_k_below_max_tokens=True, max_tokens_limit=3375,\n",
        "                                     return_source_documents=True)"
      ]
    },
    {
      "cell_type": "code",
      "execution_count": null,
      "metadata": {
        "id": "fLtjDIzv87iY"
      },
      "outputs": [],
      "source": [
        "def ask_question_with_context(question, chat_history):\n",
        "    chat_history=[]\n",
        "    query = \"\"\n",
        "    result = chain({\"question\": question}, return_only_outputs=True)\n",
        "\n",
        "    print(\"answer:\", result[\"answer\"])\n",
        "    chat_history = [(query, result[\"answer\"])]\n",
        "    return chat_history"
      ]
    },
    {
      "cell_type": "code",
      "execution_count": null,
      "metadata": {
        "colab": {
          "background_save": true,
          "base_uri": "https://localhost:8080/"
        },
        "id": "QrBVn_-F_LV2",
        "outputId": "0532b249-2cee-49bc-9c4e-1821468e6ff8"
      },
      "outputs": [
        {
          "name": "stdout",
          "output_type": "stream",
          "text": [
            "answer: 對於預防嬰兒得遺傳高血壓，可以戒菸（含電子煙）、戒酒，並且適時地用健康的方式紓解壓力，如控制體重，避免肥胖，限制鈉鹽、菸酒、咖啡因，保持生活作息正常。根據醫師指示，按時服用降血壓藥物也是重要的控制方式。高血壓的控制對於遺傳高血壓的預防有一定的幫助。\n",
            "answer: 根據資料顯示，有遺傳高血壓的女性42歲，生出有高血壓的嬰兒的風險會增加。遺傳因素是影響高血壓風險的重要因素之一。因此，建議在懷孕前向醫師諮詢，以確保適當的護理和監控。\n",
            "answer: 患有三高的人應該遵循低脂飲食原則，避免食用含糖高的食物，飲食控制加運動，適當選擇運動方式，按時注射胰島素或服用口服降血糖藥，並記錄血糖、血壓、血脂等指標，定期追蹤身體狀況。另外，避免食用含糖高的食物，多選用富含纖維質的食物，避免飲酒，並適當調整生活型態。\n",
            "answer: 對於三高（高血壓、高血糖、高膽固醇）如果不加以控制，可能會導致各種併發症，包括全身大、小血管及神經系統的併發症。因此，必須持續地控制三高，包括定時服藥、控制體重、避免肥胖、限制鈉鹽、菸酒、咖啡因等，以維持健康。\n",
            "answer: 健康檢查的項目並不是越多越好，而是要根據個人的健康狀況和需求來選擇適合的檢查項目。費用高低也不一定代表檢查的品質，重要的是選擇對自己有意義和價值的檢查項目。對於第一次健康檢查者，建議可以從基本的檢查項目開始，例如血壓、血糖、膽固醇等，再根據醫師的建議進行進一步的檢查。希望能幫助您做出明智的健康檢查選擇。\n",
            "answer: 腦中風和高血脂之間有關聯。高血脂可能導致腦中風、心肌梗塞等嚴重併發症。具有高血脂症狀的人可能出現腦中風、腎功能減退、心絞痛、心肌梗塞、動脈瘤或四肢末梢壞死等症狀。然而，有這些症狀不一定代表患有高血脂症，建議如有相關症狀應尋求心臟內科醫師的診治。具有中風家族史的人，通過運動、飲食控制和體重管理，有機會降低高血壓和相關併發症的風險。代謝症候群的人有較高風險患上中風和心肌梗塞，其中腹部肥胖是其中一個指標。\n",
            "answer: 根據您提供的數據，總膽固醇為200mg/dl，三酸甘油酯為110mg/dl，根據標準，總膽固醇≥200 mg/dL，三酸甘油脂≥200 mg/dL被認為是異常的。因此，根據您提供的數據，確實可以被歸類為高血脂症。高血脂症可能導致粥狀動脈硬化等健康問題，建議您咨詢醫生進一步評估和管理。\n",
            "answer: 糖尿病患血糖控制不佳可能會導致以下併發症：\n",
            "1. 心臟、血管病變：高血壓、心絞痛、心肌梗塞、腦中風。\n",
            "2. 全身感染：如泌尿道感染、肺結核、黴菌感染等。\n",
            "3. 腎臟病變：蛋白尿、高血壓、水腫、泌尿道感染、腎功能減退，甚至尿毒症。\n",
            "4. 神經病變。\n"
          ]
        }
      ],
      "source": [
        "chat_history = []\n",
        "while True:\n",
        "    query = input('you: ')\n",
        "    if query == 'q':\n",
        "        break\n",
        "    chat_history = ask_question_with_context(query, chat_history)\n"
      ]
    }
  ],
  "metadata": {
    "colab": {
      "provenance": []
    },
    "kernelspec": {
      "display_name": "Python 3",
      "name": "python3"
    },
    "language_info": {
      "name": "python"
    }
  },
  "nbformat": 4,
  "nbformat_minor": 0
}
